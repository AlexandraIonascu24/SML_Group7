{
 "cells": [
  {
   "cell_type": "markdown",
   "metadata": {
    "ExecuteTime": {
     "end_time": "2021-04-11T12:21:26.960642Z",
     "start_time": "2021-04-11T12:21:26.950674Z"
    }
   },
   "source": [
    "# Santander Customer Transaction Prediction - Group 7"
   ]
  },
  {
   "cell_type": "markdown",
   "metadata": {},
   "source": [
    "Alexandra Ionascu, Shruti Bajpai, Laura El Aoufir"
   ]
  },
  {
   "cell_type": "code",
   "execution_count": 1,
   "metadata": {
    "ExecuteTime": {
     "end_time": "2021-04-11T12:22:18.984703Z",
     "start_time": "2021-04-11T12:22:09.769485Z"
    }
   },
   "outputs": [
    {
     "name": "stdout",
     "output_type": "stream",
     "text": [
      "Requirement already satisfied: pandasql in c:\\users\\alexa\\anaconda3\\lib\\site-packages (0.7.3)\n",
      "Requirement already satisfied: pandas in c:\\users\\alexa\\anaconda3\\lib\\site-packages (from pandasql) (1.0.5)\n",
      "Requirement already satisfied: sqlalchemy in c:\\users\\alexa\\anaconda3\\lib\\site-packages (from pandasql) (1.3.18)\n",
      "Requirement already satisfied: numpy in c:\\users\\alexa\\anaconda3\\lib\\site-packages (from pandasql) (1.18.5)\n",
      "Requirement already satisfied: python-dateutil>=2.6.1 in c:\\users\\alexa\\anaconda3\\lib\\site-packages (from pandas->pandasql) (2.8.1)\n",
      "Requirement already satisfied: pytz>=2017.2 in c:\\users\\alexa\\anaconda3\\lib\\site-packages (from pandas->pandasql) (2020.1)\n",
      "Requirement already satisfied: six>=1.5 in c:\\users\\alexa\\anaconda3\\lib\\site-packages (from python-dateutil>=2.6.1->pandas->pandasql) (1.15.0)\n"
     ]
    }
   ],
   "source": [
    "# import the necessary packages\n",
    "import pandas as pd\n",
    "import numpy as np\n",
    "import matplotlib.pyplot as plt\n",
    "import seaborn as sns\n",
    "import sys\n",
    "\n",
    "from pandas                 import DataFrame\n",
    "from pandas                 import Series\n",
    "from pandas                 import read_csv\n",
    "from pandas                 import get_dummies\n",
    "from numpy                  import array\n",
    "from numpy                  import random\n",
    "from numpy                  import where\n",
    "from numpy                  import nan\n",
    "from scipy.stats.mstats     import winsorize\n",
    "from sklearn.linear_model   import LogisticRegression\n",
    "from sklearn.tree           import DecisionTreeClassifier\n",
    "from sklearn.ensemble       import RandomForestClassifier\n",
    "from sklearn.ensemble       import GradientBoostingClassifier\n",
    "from sklearn.svm            import SVC\n",
    "from sklearn.neural_network import MLPClassifier\n",
    "from sklearn.neighbors      import KNeighborsClassifier\n",
    "from sklearn.metrics        import accuracy_score\n",
    "from sklearn.metrics        import auc\n",
    "from sklearn.metrics        import roc_auc_score\n",
    "from scipy.stats            import pearsonr\n",
    "from sklearn.metrics        import roc_curve\n",
    "from matplotlib             import pyplot\n",
    "from sklearn.model_selection  import train_test_split\n",
    "from sklearn.decomposition import PCA, TruncatedSVD\n",
    "\n",
    "\n",
    "!pip install pandasql\n",
    "from pandasql import sqldf\n",
    "pysqldf = lambda q: sqldf(q, globals())  # Allow sqldf to access global environment"
   ]
  },
  {
   "cell_type": "code",
   "execution_count": 2,
   "metadata": {
    "ExecuteTime": {
     "end_time": "2021-04-11T12:22:25.048455Z",
     "start_time": "2021-04-11T12:22:25.009861Z"
    }
   },
   "outputs": [],
   "source": [
    "# Pr. Houdart functions\n",
    "\n",
    "from pandas             import DataFrame\n",
    "from pandas             import Series\n",
    "from pandas             import read_csv\n",
    "from numpy              import array\n",
    "from numpy              import random\n",
    "\n",
    "\n",
    "def roc (dataSet: DataFrame, actuals: str, probability: str) -> DataFrame:\n",
    "\n",
    "    (fpr,tpr,threshold) = roc_curve(array(dataSet[actuals]), array(dataSet[probability]), pos_label = 1)\n",
    "\n",
    "    returnData = DataFrame(tpr)\n",
    "    returnData.columns = [\"True positive rate\"]\n",
    "    returnData[\"False positive rate\"] = DataFrame(fpr)\n",
    "\n",
    "    return returnData\n",
    "\n",
    "def lift (dataSet: DataFrame, actuals: str, probability: str, precision: int = 20) -> DataFrame:\n",
    "\n",
    "    summary = cumulativeResponse(dataSet = dataSet, actuals = actuals, probability = probability, precision = precision)\n",
    "\n",
    "    summary[\"Lift\"] = summary[\"Cumulative response\"] / Series(summary[\"Average response\"]).max()\n",
    "    summary[\"Base\"] = summary[\"Average response\"] / Series(summary[\"Average response\"]).max()\n",
    "\n",
    "    return summary[[\"Quantile\",\"Lift\",\"Base\"]]\n",
    "\n",
    "def cumulativeResponse (dataSet: DataFrame, actuals: str, probability: str, precision: int = 20) -> DataFrame:\n",
    "\n",
    "    internalSet = equifrequentBinning (dataSet = dataSet[[actuals, probability]], byColumn = probability, into = precision)\n",
    "\n",
    "    internalSet[\"Quantile\"] = internalSet[probability + \"_bin\"] / precision\n",
    "    internalSet[\"obs\"]      = 1\n",
    "\n",
    "    summary = internalSet[[\"Quantile\", actuals, \"obs\"]].groupby([\"Quantile\"], as_index = False).sum().sort_values(by = \"Quantile\", ascending = False)\n",
    "\n",
    "    summary[\"cumulativeTarget\"]     = Series(summary[actuals]).cumsum(skipna = False)\n",
    "    summary[\"cumulativeAll\"]        = Series(summary[\"obs\"]).cumsum(skipna = False)\n",
    "    summary[\"Cumulative response\"]  = summary[\"cumulativeTarget\"] / summary[\"cumulativeAll\"]\n",
    "    summary[\"Average response\"]     = Series(summary[\"cumulativeTarget\"]).max() / Series(summary[\"cumulativeAll\"]).max()\n",
    "\n",
    "    return summary[[\"Quantile\",\"Cumulative response\",\"Average response\"]]\n",
    "\n",
    "def cumulativeGains (dataSet: DataFrame, actuals: str, probability: str, precision: int = 20) -> DataFrame:\n",
    "\n",
    "    internalSet = equifrequentBinning (dataSet = dataSet[[actuals, probability]], byColumn = probability, into = precision)\n",
    "\n",
    "    internalSet[\"Quantile\"] = internalSet[probability + \"_bin\"] / precision\n",
    "    internalSet[\"obs\"]      = 1\n",
    "\n",
    "    summary = internalSet[[\"Quantile\", actuals, \"obs\"]].groupby([\"Quantile\"], as_index = False).sum().sort_values(by = \"Quantile\", ascending = False)\n",
    "\n",
    "    summary[\"cumulativeTarget\"]     = Series(summary[actuals]).cumsum(skipna = False)\n",
    "    summary[\"cumulativeAll\"]        = Series(summary[\"obs\"]).cumsum(skipna = False)\n",
    "    summary[\"Cumulative gains\"]     = summary[\"cumulativeTarget\"] / Series(summary[\"cumulativeTarget\"]).max()\n",
    "    summary[\"Base\"]                 = summary[\"Quantile\"]\n",
    "\n",
    "    return summary[[\"Quantile\",\"Cumulative gains\",\"Base\"]]\n",
    "\n",
    "def equifrequentBinning (dataSet: DataFrame, byColumn: str, into: int) -> DataFrame:\n",
    "\n",
    "    internalSet = dataSet\n",
    "\n",
    "    quanitles = []\n",
    "\n",
    "    for i in range(into):\n",
    "        quanitles.append(1 / into * (i))\n",
    "\n",
    "    quantile = internalSet.quantile(quanitles, axis = 0)[byColumn].to_dict()\n",
    "\n",
    "    internalSet[\"Bin\"] = 0\n",
    "\n",
    "    for q in quantile:\n",
    "        upperBound = quantile[q]\n",
    "        internalSet.loc[internalSet[byColumn] >= upperBound, byColumn + \"_bin\"] = int(q * into +1)\n",
    "\n",
    "    return internalSet\n",
    "\n",
    "def partition (dataFrame : DataFrame, splitStrategy: [float]) -> [DataFrame]:\n",
    "\n",
    "    def assignPartition (toDataFrame: DataFrame, lowerBound: float, upperBound: float, index: int) -> int:\n",
    "        if toDataFrame[\"random\"] >= lowerBound * observations and toDataFrame[\"random\"] < upperBound * observations:\n",
    "            return index\n",
    "        else:\n",
    "            return int(toDataFrame[\"Split\"])\n",
    "\n",
    "    if type(splitStrategy) != list:\n",
    "        raise KeyError(\"Split strategy must be an array of floating point values.\")\n",
    "    elif sum(splitStrategy) != 1:\n",
    "        raise ValueError(\"Split strategy must sum to 1.\")\n",
    "    else:\n",
    "        observations = dataFrame.shape[0]\n",
    "        partitions   = len(splitStrategy)\n",
    "\n",
    "        cumulativeSplit = 0\n",
    "\n",
    "        data = dataFrame.copy()\n",
    "        data[\"random\"] = random.permutation(observations)\n",
    "        data[\"Split\"]  = 0\n",
    "\n",
    "    for index, split in enumerate(splitStrategy):\n",
    "        lowerSplit = cumulativeSplit\n",
    "        upperSplit = cumulativeSplit + split + 1\n",
    "        cumulativeSplit += split\n",
    "        data[\"Split\"] = data.apply(lambda x: assignPartition(x,lowerSplit,upperSplit,index+1), axis = 1)\n",
    "\n",
    "    partitions = []\n",
    "\n",
    "    for i in range(len(splitStrategy)):\n",
    "        partitions.append(data.loc[data[\"Split\"] == i+1].drop([\"Split\",\"random\"], axis = 1).reset_index(drop = True))\n",
    "\n",
    "    return partitions\n"
   ]
  },
  {
   "cell_type": "code",
   "execution_count": 3,
   "metadata": {
    "ExecuteTime": {
     "end_time": "2021-04-11T12:22:31.289786Z",
     "start_time": "2021-04-11T12:22:31.276756Z"
    }
   },
   "outputs": [],
   "source": [
    "# options to display full output\n",
    "pd.set_option('display.max_rows', 500)\n",
    "pd.set_option('display.max_columns', 500)\n",
    "pd.set_option('display.width', 1000)"
   ]
  },
  {
   "cell_type": "markdown",
   "metadata": {},
   "source": [
    "# I. Reading In Data"
   ]
  },
  {
   "cell_type": "code",
   "execution_count": 3,
   "metadata": {
    "ExecuteTime": {
     "end_time": "2021-04-11T12:40:07.123048Z",
     "start_time": "2021-04-11T12:39:34.726997Z"
    }
   },
   "outputs": [],
   "source": [
    "# load the data\n",
    "train = pd.read_csv('train.csv', sep=',')\n",
    "test = pd.read_csv('test.csv', sep=',')\n",
    "sample = pd.read_csv('sample_submission.csv', sep=',')"
   ]
  },
  {
   "cell_type": "code",
   "execution_count": 4,
   "metadata": {
    "ExecuteTime": {
     "end_time": "2021-04-11T12:32:31.334943Z",
     "start_time": "2021-04-11T12:32:30.842031Z"
    }
   },
   "outputs": [
    {
     "data": {
      "text/html": [
       "<div>\n",
       "<style scoped>\n",
       "    .dataframe tbody tr th:only-of-type {\n",
       "        vertical-align: middle;\n",
       "    }\n",
       "\n",
       "    .dataframe tbody tr th {\n",
       "        vertical-align: top;\n",
       "    }\n",
       "\n",
       "    .dataframe thead th {\n",
       "        text-align: right;\n",
       "    }\n",
       "</style>\n",
       "<table border=\"1\" class=\"dataframe\">\n",
       "  <thead>\n",
       "    <tr style=\"text-align: right;\">\n",
       "      <th></th>\n",
       "      <th>ID_code</th>\n",
       "      <th>target</th>\n",
       "      <th>var_0</th>\n",
       "      <th>var_1</th>\n",
       "      <th>var_2</th>\n",
       "      <th>var_3</th>\n",
       "      <th>var_4</th>\n",
       "      <th>var_5</th>\n",
       "      <th>var_6</th>\n",
       "      <th>var_7</th>\n",
       "      <th>...</th>\n",
       "      <th>var_190</th>\n",
       "      <th>var_191</th>\n",
       "      <th>var_192</th>\n",
       "      <th>var_193</th>\n",
       "      <th>var_194</th>\n",
       "      <th>var_195</th>\n",
       "      <th>var_196</th>\n",
       "      <th>var_197</th>\n",
       "      <th>var_198</th>\n",
       "      <th>var_199</th>\n",
       "    </tr>\n",
       "  </thead>\n",
       "  <tbody>\n",
       "    <tr>\n",
       "      <th>0</th>\n",
       "      <td>train_0</td>\n",
       "      <td>0</td>\n",
       "      <td>8.9255</td>\n",
       "      <td>-6.7863</td>\n",
       "      <td>11.9081</td>\n",
       "      <td>5.0930</td>\n",
       "      <td>11.4607</td>\n",
       "      <td>-9.2834</td>\n",
       "      <td>5.1187</td>\n",
       "      <td>18.6266</td>\n",
       "      <td>...</td>\n",
       "      <td>4.4354</td>\n",
       "      <td>3.9642</td>\n",
       "      <td>3.1364</td>\n",
       "      <td>1.6910</td>\n",
       "      <td>18.5227</td>\n",
       "      <td>-2.3978</td>\n",
       "      <td>7.8784</td>\n",
       "      <td>8.5635</td>\n",
       "      <td>12.7803</td>\n",
       "      <td>-1.0914</td>\n",
       "    </tr>\n",
       "    <tr>\n",
       "      <th>1</th>\n",
       "      <td>train_1</td>\n",
       "      <td>0</td>\n",
       "      <td>11.5006</td>\n",
       "      <td>-4.1473</td>\n",
       "      <td>13.8588</td>\n",
       "      <td>5.3890</td>\n",
       "      <td>12.3622</td>\n",
       "      <td>7.0433</td>\n",
       "      <td>5.6208</td>\n",
       "      <td>16.5338</td>\n",
       "      <td>...</td>\n",
       "      <td>7.6421</td>\n",
       "      <td>7.7214</td>\n",
       "      <td>2.5837</td>\n",
       "      <td>10.9516</td>\n",
       "      <td>15.4305</td>\n",
       "      <td>2.0339</td>\n",
       "      <td>8.1267</td>\n",
       "      <td>8.7889</td>\n",
       "      <td>18.3560</td>\n",
       "      <td>1.9518</td>\n",
       "    </tr>\n",
       "    <tr>\n",
       "      <th>2</th>\n",
       "      <td>train_2</td>\n",
       "      <td>0</td>\n",
       "      <td>8.6093</td>\n",
       "      <td>-2.7457</td>\n",
       "      <td>12.0805</td>\n",
       "      <td>7.8928</td>\n",
       "      <td>10.5825</td>\n",
       "      <td>-9.0837</td>\n",
       "      <td>6.9427</td>\n",
       "      <td>14.6155</td>\n",
       "      <td>...</td>\n",
       "      <td>2.9057</td>\n",
       "      <td>9.7905</td>\n",
       "      <td>1.6704</td>\n",
       "      <td>1.6858</td>\n",
       "      <td>21.6042</td>\n",
       "      <td>3.1417</td>\n",
       "      <td>-6.5213</td>\n",
       "      <td>8.2675</td>\n",
       "      <td>14.7222</td>\n",
       "      <td>0.3965</td>\n",
       "    </tr>\n",
       "    <tr>\n",
       "      <th>3</th>\n",
       "      <td>train_3</td>\n",
       "      <td>0</td>\n",
       "      <td>11.0604</td>\n",
       "      <td>-2.1518</td>\n",
       "      <td>8.9522</td>\n",
       "      <td>7.1957</td>\n",
       "      <td>12.5846</td>\n",
       "      <td>-1.8361</td>\n",
       "      <td>5.8428</td>\n",
       "      <td>14.9250</td>\n",
       "      <td>...</td>\n",
       "      <td>4.4666</td>\n",
       "      <td>4.7433</td>\n",
       "      <td>0.7178</td>\n",
       "      <td>1.4214</td>\n",
       "      <td>23.0347</td>\n",
       "      <td>-1.2706</td>\n",
       "      <td>-2.9275</td>\n",
       "      <td>10.2922</td>\n",
       "      <td>17.9697</td>\n",
       "      <td>-8.9996</td>\n",
       "    </tr>\n",
       "    <tr>\n",
       "      <th>4</th>\n",
       "      <td>train_4</td>\n",
       "      <td>0</td>\n",
       "      <td>9.8369</td>\n",
       "      <td>-1.4834</td>\n",
       "      <td>12.8746</td>\n",
       "      <td>6.6375</td>\n",
       "      <td>12.2772</td>\n",
       "      <td>2.4486</td>\n",
       "      <td>5.9405</td>\n",
       "      <td>19.2514</td>\n",
       "      <td>...</td>\n",
       "      <td>-1.4905</td>\n",
       "      <td>9.5214</td>\n",
       "      <td>-0.1508</td>\n",
       "      <td>9.1942</td>\n",
       "      <td>13.2876</td>\n",
       "      <td>-1.5121</td>\n",
       "      <td>3.9267</td>\n",
       "      <td>9.5031</td>\n",
       "      <td>17.9974</td>\n",
       "      <td>-8.8104</td>\n",
       "    </tr>\n",
       "  </tbody>\n",
       "</table>\n",
       "<p>5 rows × 202 columns</p>\n",
       "</div>"
      ],
      "text/plain": [
       "   ID_code  target    var_0   var_1    var_2   var_3    var_4   var_5   var_6  \\\n",
       "0  train_0       0   8.9255 -6.7863  11.9081  5.0930  11.4607 -9.2834  5.1187   \n",
       "1  train_1       0  11.5006 -4.1473  13.8588  5.3890  12.3622  7.0433  5.6208   \n",
       "2  train_2       0   8.6093 -2.7457  12.0805  7.8928  10.5825 -9.0837  6.9427   \n",
       "3  train_3       0  11.0604 -2.1518   8.9522  7.1957  12.5846 -1.8361  5.8428   \n",
       "4  train_4       0   9.8369 -1.4834  12.8746  6.6375  12.2772  2.4486  5.9405   \n",
       "\n",
       "     var_7  ...  var_190  var_191  var_192  var_193  var_194  var_195  \\\n",
       "0  18.6266  ...   4.4354   3.9642   3.1364   1.6910  18.5227  -2.3978   \n",
       "1  16.5338  ...   7.6421   7.7214   2.5837  10.9516  15.4305   2.0339   \n",
       "2  14.6155  ...   2.9057   9.7905   1.6704   1.6858  21.6042   3.1417   \n",
       "3  14.9250  ...   4.4666   4.7433   0.7178   1.4214  23.0347  -1.2706   \n",
       "4  19.2514  ...  -1.4905   9.5214  -0.1508   9.1942  13.2876  -1.5121   \n",
       "\n",
       "   var_196  var_197  var_198  var_199  \n",
       "0   7.8784   8.5635  12.7803  -1.0914  \n",
       "1   8.1267   8.7889  18.3560   1.9518  \n",
       "2  -6.5213   8.2675  14.7222   0.3965  \n",
       "3  -2.9275  10.2922  17.9697  -8.9996  \n",
       "4   3.9267   9.5031  17.9974  -8.8104  \n",
       "\n",
       "[5 rows x 202 columns]"
      ]
     },
     "execution_count": 4,
     "metadata": {},
     "output_type": "execute_result"
    }
   ],
   "source": [
    "# check train\n",
    "train.head()"
   ]
  },
  {
   "cell_type": "code",
   "execution_count": 5,
   "metadata": {
    "ExecuteTime": {
     "end_time": "2021-04-11T12:33:25.639394Z",
     "start_time": "2021-04-11T12:33:25.626016Z"
    }
   },
   "outputs": [
    {
     "data": {
      "text/plain": [
       "(200000, 202)"
      ]
     },
     "execution_count": 5,
     "metadata": {},
     "output_type": "execute_result"
    }
   ],
   "source": [
    "# check train size\n",
    "train.shape"
   ]
  },
  {
   "cell_type": "code",
   "execution_count": 18,
   "metadata": {
    "ExecuteTime": {
     "end_time": "2021-04-11T12:33:26.688507Z",
     "start_time": "2021-04-11T12:33:26.647166Z"
    }
   },
   "outputs": [
    {
     "name": "stdout",
     "output_type": "stream",
     "text": [
      "<class 'pandas.core.frame.DataFrame'>\n",
      "RangeIndex: 200000 entries, 0 to 199999\n",
      "Columns: 202 entries, ID_code to var_199\n",
      "dtypes: float64(200), int64(1), object(1)\n",
      "memory usage: 308.2+ MB\n"
     ]
    }
   ],
   "source": [
    "# check train info\n",
    "train.info()"
   ]
  },
  {
   "cell_type": "code",
   "execution_count": 19,
   "metadata": {
    "ExecuteTime": {
     "end_time": "2021-04-11T12:33:28.936204Z",
     "start_time": "2021-04-11T12:33:28.922455Z"
    }
   },
   "outputs": [
    {
     "data": {
      "text/plain": [
       "Index(['ID_code', 'target', 'var_0', 'var_1', 'var_2', 'var_3', 'var_4', 'var_5', 'var_6', 'var_7',\n",
       "       ...\n",
       "       'var_190', 'var_191', 'var_192', 'var_193', 'var_194', 'var_195', 'var_196', 'var_197', 'var_198', 'var_199'], dtype='object', length=202)"
      ]
     },
     "execution_count": 19,
     "metadata": {},
     "output_type": "execute_result"
    }
   ],
   "source": [
    "# check train columns\n",
    "train.columns"
   ]
  },
  {
   "cell_type": "code",
   "execution_count": 20,
   "metadata": {
    "ExecuteTime": {
     "end_time": "2021-04-11T12:33:29.955188Z",
     "start_time": "2021-04-11T12:33:29.938317Z"
    }
   },
   "outputs": [
    {
     "data": {
      "text/plain": [
       "ID_code     object\n",
       "target       int64\n",
       "var_0      float64\n",
       "var_1      float64\n",
       "var_2      float64\n",
       "var_3      float64\n",
       "var_4      float64\n",
       "var_5      float64\n",
       "var_6      float64\n",
       "var_7      float64\n",
       "var_8      float64\n",
       "var_9      float64\n",
       "var_10     float64\n",
       "var_11     float64\n",
       "var_12     float64\n",
       "var_13     float64\n",
       "var_14     float64\n",
       "var_15     float64\n",
       "var_16     float64\n",
       "var_17     float64\n",
       "var_18     float64\n",
       "var_19     float64\n",
       "var_20     float64\n",
       "var_21     float64\n",
       "var_22     float64\n",
       "var_23     float64\n",
       "var_24     float64\n",
       "var_25     float64\n",
       "var_26     float64\n",
       "var_27     float64\n",
       "var_28     float64\n",
       "var_29     float64\n",
       "var_30     float64\n",
       "var_31     float64\n",
       "var_32     float64\n",
       "var_33     float64\n",
       "var_34     float64\n",
       "var_35     float64\n",
       "var_36     float64\n",
       "var_37     float64\n",
       "var_38     float64\n",
       "var_39     float64\n",
       "var_40     float64\n",
       "var_41     float64\n",
       "var_42     float64\n",
       "var_43     float64\n",
       "var_44     float64\n",
       "var_45     float64\n",
       "var_46     float64\n",
       "var_47     float64\n",
       "var_48     float64\n",
       "var_49     float64\n",
       "var_50     float64\n",
       "var_51     float64\n",
       "var_52     float64\n",
       "var_53     float64\n",
       "var_54     float64\n",
       "var_55     float64\n",
       "var_56     float64\n",
       "var_57     float64\n",
       "var_58     float64\n",
       "var_59     float64\n",
       "var_60     float64\n",
       "var_61     float64\n",
       "var_62     float64\n",
       "var_63     float64\n",
       "var_64     float64\n",
       "var_65     float64\n",
       "var_66     float64\n",
       "var_67     float64\n",
       "var_68     float64\n",
       "var_69     float64\n",
       "var_70     float64\n",
       "var_71     float64\n",
       "var_72     float64\n",
       "var_73     float64\n",
       "var_74     float64\n",
       "var_75     float64\n",
       "var_76     float64\n",
       "var_77     float64\n",
       "var_78     float64\n",
       "var_79     float64\n",
       "var_80     float64\n",
       "var_81     float64\n",
       "var_82     float64\n",
       "var_83     float64\n",
       "var_84     float64\n",
       "var_85     float64\n",
       "var_86     float64\n",
       "var_87     float64\n",
       "var_88     float64\n",
       "var_89     float64\n",
       "var_90     float64\n",
       "var_91     float64\n",
       "var_92     float64\n",
       "var_93     float64\n",
       "var_94     float64\n",
       "var_95     float64\n",
       "var_96     float64\n",
       "var_97     float64\n",
       "var_98     float64\n",
       "var_99     float64\n",
       "var_100    float64\n",
       "var_101    float64\n",
       "var_102    float64\n",
       "var_103    float64\n",
       "var_104    float64\n",
       "var_105    float64\n",
       "var_106    float64\n",
       "var_107    float64\n",
       "var_108    float64\n",
       "var_109    float64\n",
       "var_110    float64\n",
       "var_111    float64\n",
       "var_112    float64\n",
       "var_113    float64\n",
       "var_114    float64\n",
       "var_115    float64\n",
       "var_116    float64\n",
       "var_117    float64\n",
       "var_118    float64\n",
       "var_119    float64\n",
       "var_120    float64\n",
       "var_121    float64\n",
       "var_122    float64\n",
       "var_123    float64\n",
       "var_124    float64\n",
       "var_125    float64\n",
       "var_126    float64\n",
       "var_127    float64\n",
       "var_128    float64\n",
       "var_129    float64\n",
       "var_130    float64\n",
       "var_131    float64\n",
       "var_132    float64\n",
       "var_133    float64\n",
       "var_134    float64\n",
       "var_135    float64\n",
       "var_136    float64\n",
       "var_137    float64\n",
       "var_138    float64\n",
       "var_139    float64\n",
       "var_140    float64\n",
       "var_141    float64\n",
       "var_142    float64\n",
       "var_143    float64\n",
       "var_144    float64\n",
       "var_145    float64\n",
       "var_146    float64\n",
       "var_147    float64\n",
       "var_148    float64\n",
       "var_149    float64\n",
       "var_150    float64\n",
       "var_151    float64\n",
       "var_152    float64\n",
       "var_153    float64\n",
       "var_154    float64\n",
       "var_155    float64\n",
       "var_156    float64\n",
       "var_157    float64\n",
       "var_158    float64\n",
       "var_159    float64\n",
       "var_160    float64\n",
       "var_161    float64\n",
       "var_162    float64\n",
       "var_163    float64\n",
       "var_164    float64\n",
       "var_165    float64\n",
       "var_166    float64\n",
       "var_167    float64\n",
       "var_168    float64\n",
       "var_169    float64\n",
       "var_170    float64\n",
       "var_171    float64\n",
       "var_172    float64\n",
       "var_173    float64\n",
       "var_174    float64\n",
       "var_175    float64\n",
       "var_176    float64\n",
       "var_177    float64\n",
       "var_178    float64\n",
       "var_179    float64\n",
       "var_180    float64\n",
       "var_181    float64\n",
       "var_182    float64\n",
       "var_183    float64\n",
       "var_184    float64\n",
       "var_185    float64\n",
       "var_186    float64\n",
       "var_187    float64\n",
       "var_188    float64\n",
       "var_189    float64\n",
       "var_190    float64\n",
       "var_191    float64\n",
       "var_192    float64\n",
       "var_193    float64\n",
       "var_194    float64\n",
       "var_195    float64\n",
       "var_196    float64\n",
       "var_197    float64\n",
       "var_198    float64\n",
       "var_199    float64\n",
       "dtype: object"
      ]
     },
     "execution_count": 20,
     "metadata": {},
     "output_type": "execute_result"
    }
   ],
   "source": [
    "# check train data types\n",
    "train.dtypes"
   ]
  },
  {
   "cell_type": "code",
   "execution_count": 21,
   "metadata": {
    "ExecuteTime": {
     "end_time": "2021-04-11T12:33:56.964835Z",
     "start_time": "2021-04-11T12:33:56.695583Z"
    }
   },
   "outputs": [
    {
     "data": {
      "text/plain": [
       "ID_code    0\n",
       "target     0\n",
       "var_0      0\n",
       "var_1      0\n",
       "var_2      0\n",
       "var_3      0\n",
       "var_4      0\n",
       "var_5      0\n",
       "var_6      0\n",
       "var_7      0\n",
       "var_8      0\n",
       "var_9      0\n",
       "var_10     0\n",
       "var_11     0\n",
       "var_12     0\n",
       "var_13     0\n",
       "var_14     0\n",
       "var_15     0\n",
       "var_16     0\n",
       "var_17     0\n",
       "var_18     0\n",
       "var_19     0\n",
       "var_20     0\n",
       "var_21     0\n",
       "var_22     0\n",
       "var_23     0\n",
       "var_24     0\n",
       "var_25     0\n",
       "var_26     0\n",
       "var_27     0\n",
       "var_28     0\n",
       "var_29     0\n",
       "var_30     0\n",
       "var_31     0\n",
       "var_32     0\n",
       "var_33     0\n",
       "var_34     0\n",
       "var_35     0\n",
       "var_36     0\n",
       "var_37     0\n",
       "var_38     0\n",
       "var_39     0\n",
       "var_40     0\n",
       "var_41     0\n",
       "var_42     0\n",
       "var_43     0\n",
       "var_44     0\n",
       "var_45     0\n",
       "var_46     0\n",
       "var_47     0\n",
       "var_48     0\n",
       "var_49     0\n",
       "var_50     0\n",
       "var_51     0\n",
       "var_52     0\n",
       "var_53     0\n",
       "var_54     0\n",
       "var_55     0\n",
       "var_56     0\n",
       "var_57     0\n",
       "var_58     0\n",
       "var_59     0\n",
       "var_60     0\n",
       "var_61     0\n",
       "var_62     0\n",
       "var_63     0\n",
       "var_64     0\n",
       "var_65     0\n",
       "var_66     0\n",
       "var_67     0\n",
       "var_68     0\n",
       "var_69     0\n",
       "var_70     0\n",
       "var_71     0\n",
       "var_72     0\n",
       "var_73     0\n",
       "var_74     0\n",
       "var_75     0\n",
       "var_76     0\n",
       "var_77     0\n",
       "var_78     0\n",
       "var_79     0\n",
       "var_80     0\n",
       "var_81     0\n",
       "var_82     0\n",
       "var_83     0\n",
       "var_84     0\n",
       "var_85     0\n",
       "var_86     0\n",
       "var_87     0\n",
       "var_88     0\n",
       "var_89     0\n",
       "var_90     0\n",
       "var_91     0\n",
       "var_92     0\n",
       "var_93     0\n",
       "var_94     0\n",
       "var_95     0\n",
       "var_96     0\n",
       "var_97     0\n",
       "var_98     0\n",
       "var_99     0\n",
       "var_100    0\n",
       "var_101    0\n",
       "var_102    0\n",
       "var_103    0\n",
       "var_104    0\n",
       "var_105    0\n",
       "var_106    0\n",
       "var_107    0\n",
       "var_108    0\n",
       "var_109    0\n",
       "var_110    0\n",
       "var_111    0\n",
       "var_112    0\n",
       "var_113    0\n",
       "var_114    0\n",
       "var_115    0\n",
       "var_116    0\n",
       "var_117    0\n",
       "var_118    0\n",
       "var_119    0\n",
       "var_120    0\n",
       "var_121    0\n",
       "var_122    0\n",
       "var_123    0\n",
       "var_124    0\n",
       "var_125    0\n",
       "var_126    0\n",
       "var_127    0\n",
       "var_128    0\n",
       "var_129    0\n",
       "var_130    0\n",
       "var_131    0\n",
       "var_132    0\n",
       "var_133    0\n",
       "var_134    0\n",
       "var_135    0\n",
       "var_136    0\n",
       "var_137    0\n",
       "var_138    0\n",
       "var_139    0\n",
       "var_140    0\n",
       "var_141    0\n",
       "var_142    0\n",
       "var_143    0\n",
       "var_144    0\n",
       "var_145    0\n",
       "var_146    0\n",
       "var_147    0\n",
       "var_148    0\n",
       "var_149    0\n",
       "var_150    0\n",
       "var_151    0\n",
       "var_152    0\n",
       "var_153    0\n",
       "var_154    0\n",
       "var_155    0\n",
       "var_156    0\n",
       "var_157    0\n",
       "var_158    0\n",
       "var_159    0\n",
       "var_160    0\n",
       "var_161    0\n",
       "var_162    0\n",
       "var_163    0\n",
       "var_164    0\n",
       "var_165    0\n",
       "var_166    0\n",
       "var_167    0\n",
       "var_168    0\n",
       "var_169    0\n",
       "var_170    0\n",
       "var_171    0\n",
       "var_172    0\n",
       "var_173    0\n",
       "var_174    0\n",
       "var_175    0\n",
       "var_176    0\n",
       "var_177    0\n",
       "var_178    0\n",
       "var_179    0\n",
       "var_180    0\n",
       "var_181    0\n",
       "var_182    0\n",
       "var_183    0\n",
       "var_184    0\n",
       "var_185    0\n",
       "var_186    0\n",
       "var_187    0\n",
       "var_188    0\n",
       "var_189    0\n",
       "var_190    0\n",
       "var_191    0\n",
       "var_192    0\n",
       "var_193    0\n",
       "var_194    0\n",
       "var_195    0\n",
       "var_196    0\n",
       "var_197    0\n",
       "var_198    0\n",
       "var_199    0\n",
       "dtype: int64"
      ]
     },
     "execution_count": 21,
     "metadata": {},
     "output_type": "execute_result"
    }
   ],
   "source": [
    "# check train missing values\n",
    "train.isnull().sum()"
   ]
  },
  {
   "cell_type": "code",
   "execution_count": 22,
   "metadata": {
    "ExecuteTime": {
     "end_time": "2021-04-11T12:34:11.483657Z",
     "start_time": "2021-04-11T12:34:06.680280Z"
    }
   },
   "outputs": [
    {
     "data": {
      "text/plain": [
       "ID_code    200000\n",
       "target          2\n",
       "var_0       94672\n",
       "var_1      108932\n",
       "var_2       86555\n",
       "var_3       74597\n",
       "var_4       63515\n",
       "var_5      141029\n",
       "var_6       38599\n",
       "var_7      103063\n",
       "var_8       98617\n",
       "var_9       49417\n",
       "var_10     128764\n",
       "var_11     130193\n",
       "var_12       9561\n",
       "var_13     115181\n",
       "var_14      79122\n",
       "var_15      19810\n",
       "var_16      86918\n",
       "var_17     137823\n",
       "var_18     139515\n",
       "var_19     144180\n",
       "var_20     127764\n",
       "var_21     140062\n",
       "var_22      90660\n",
       "var_23      24913\n",
       "var_24     105101\n",
       "var_25      14853\n",
       "var_26     127089\n",
       "var_27      60185\n",
       "var_28      35859\n",
       "var_29      88339\n",
       "var_30     145977\n",
       "var_31      77388\n",
       "var_32      85964\n",
       "var_33     112239\n",
       "var_34      25164\n",
       "var_35     122384\n",
       "var_36      96404\n",
       "var_37      79040\n",
       "var_38     115366\n",
       "var_39     112674\n",
       "var_40     141878\n",
       "var_41     131896\n",
       "var_42      31592\n",
       "var_43      15188\n",
       "var_44     127702\n",
       "var_45     169968\n",
       "var_46      93450\n",
       "var_47     154781\n",
       "var_48     152039\n",
       "var_49     140641\n",
       "var_50      32308\n",
       "var_51     143455\n",
       "var_52     121313\n",
       "var_53      33460\n",
       "var_54     144776\n",
       "var_55     128077\n",
       "var_56     103045\n",
       "var_57      35545\n",
       "var_58     113907\n",
       "var_59      37744\n",
       "var_60     113763\n",
       "var_61     159369\n",
       "var_62      74777\n",
       "var_63      97098\n",
       "var_64      59379\n",
       "var_65     108347\n",
       "var_66      47722\n",
       "var_67     137253\n",
       "var_68        451\n",
       "var_69     110346\n",
       "var_70     153193\n",
       "var_71      13527\n",
       "var_72     110114\n",
       "var_73     142582\n",
       "var_74     161058\n",
       "var_75     129383\n",
       "var_76     139317\n",
       "var_77     106809\n",
       "var_78      72254\n",
       "var_79      53212\n",
       "var_80     136432\n",
       "var_81      79065\n",
       "var_82     144829\n",
       "var_83     144281\n",
       "var_84     133766\n",
       "var_85     108437\n",
       "var_86     140594\n",
       "var_87     125296\n",
       "var_88      84918\n",
       "var_89     103522\n",
       "var_90     157210\n",
       "var_91       7962\n",
       "var_92     110743\n",
       "var_93      26708\n",
       "var_94      89146\n",
       "var_95      29387\n",
       "var_96     148099\n",
       "var_97     158739\n",
       "var_98      33266\n",
       "var_99      69300\n",
       "var_100    150727\n",
       "var_101    122295\n",
       "var_102    146237\n",
       "var_103      9376\n",
       "var_104     72627\n",
       "var_105     39115\n",
       "var_106     71065\n",
       "var_107    137827\n",
       "var_108      8525\n",
       "var_109    112172\n",
       "var_110    106121\n",
       "var_111     46464\n",
       "var_112     60482\n",
       "var_113    116496\n",
       "var_114     43084\n",
       "var_115     86729\n",
       "var_116     63467\n",
       "var_117    164469\n",
       "var_118    143667\n",
       "var_119    112403\n",
       "var_120    158269\n",
       "var_121     64695\n",
       "var_122    121767\n",
       "var_123    129893\n",
       "var_124     91022\n",
       "var_125     16059\n",
       "var_126     32411\n",
       "var_127     95710\n",
       "var_128     98200\n",
       "var_129    113425\n",
       "var_130     36638\n",
       "var_131     21464\n",
       "var_132     57923\n",
       "var_133     19236\n",
       "var_134    131619\n",
       "var_135    140774\n",
       "var_136    156615\n",
       "var_137    144397\n",
       "var_138    117428\n",
       "var_139    137294\n",
       "var_140    121384\n",
       "var_141    134443\n",
       "var_142    128613\n",
       "var_143     94372\n",
       "var_144     40595\n",
       "var_145    108526\n",
       "var_146     84314\n",
       "var_147    137559\n",
       "var_148     10608\n",
       "var_149    148504\n",
       "var_150     83660\n",
       "var_151    109667\n",
       "var_152     95823\n",
       "var_153     73728\n",
       "var_154    119342\n",
       "var_155    127457\n",
       "var_156     40634\n",
       "var_157    126534\n",
       "var_158    144556\n",
       "var_159    112830\n",
       "var_160    156274\n",
       "var_161     11071\n",
       "var_162     57396\n",
       "var_163    123168\n",
       "var_164    122744\n",
       "var_165    119403\n",
       "var_166     17902\n",
       "var_167    140954\n",
       "var_168     97227\n",
       "var_169     18242\n",
       "var_170    113720\n",
       "var_171    125914\n",
       "var_172    143366\n",
       "var_173    128120\n",
       "var_174    134945\n",
       "var_175     92659\n",
       "var_176    142521\n",
       "var_177     85720\n",
       "var_178    145235\n",
       "var_179     90090\n",
       "var_180    123477\n",
       "var_181     56164\n",
       "var_182    149195\n",
       "var_183    117529\n",
       "var_184    145184\n",
       "var_185    120747\n",
       "var_186     98060\n",
       "var_187    157031\n",
       "var_188    108813\n",
       "var_189     41764\n",
       "var_190    114959\n",
       "var_191     94266\n",
       "var_192     59065\n",
       "var_193    110557\n",
       "var_194     97069\n",
       "var_195     57870\n",
       "var_196    125560\n",
       "var_197     40537\n",
       "var_198     94153\n",
       "var_199    149430\n",
       "dtype: int64"
      ]
     },
     "execution_count": 22,
     "metadata": {},
     "output_type": "execute_result"
    }
   ],
   "source": [
    "# check train number of unique values per column\n",
    "train.nunique()"
   ]
  },
  {
   "cell_type": "markdown",
   "metadata": {
    "ExecuteTime": {
     "end_time": "2021-04-11T12:35:00.187518Z",
     "start_time": "2021-04-11T12:35:00.181721Z"
    }
   },
   "source": [
    "### Train: Remove outliers and standardized"
   ]
  },
  {
   "cell_type": "code",
   "execution_count": 6,
   "metadata": {
    "ExecuteTime": {
     "end_time": "2021-04-11T12:35:43.356871Z",
     "start_time": "2021-04-11T12:35:33.594108Z"
    }
   },
   "outputs": [],
   "source": [
    "# winsorizing to take out outliers\n",
    "for col in train.drop(['ID_code','target'],axis=1).columns:\n",
    "    train[col] = winsorize(array(train[col]), limits=[0.00,0.01])"
   ]
  },
  {
   "cell_type": "code",
   "execution_count": 7,
   "metadata": {
    "ExecuteTime": {
     "end_time": "2021-04-11T12:36:15.153544Z",
     "start_time": "2021-04-11T12:36:14.419142Z"
    }
   },
   "outputs": [],
   "source": [
    "# standardization with min max scale\n",
    "from sklearn import preprocessing\n",
    "\n",
    "dont_include_cols = ['ID_code','target']\n",
    "\n",
    "x = train.drop(dont_include_cols, axis=1).values #returns a numpy array\n",
    "min_max_scaler = preprocessing.MinMaxScaler()\n",
    "x_scaled = min_max_scaler.fit_transform(x)\n",
    "train_st = pd.DataFrame(x_scaled)"
   ]
  },
  {
   "cell_type": "code",
   "execution_count": 8,
   "metadata": {
    "ExecuteTime": {
     "end_time": "2021-04-11T12:37:23.378429Z",
     "start_time": "2021-04-11T12:37:23.179009Z"
    }
   },
   "outputs": [],
   "source": [
    "# rename columns\n",
    "train_st.columns = train.drop(dont_include_cols, axis=1).columns\n",
    "train_st['target'] = train['target']\n",
    "train_st['ID_code'] = train['ID_code']"
   ]
  },
  {
   "cell_type": "markdown",
   "metadata": {
    "ExecuteTime": {
     "end_time": "2021-04-11T12:38:34.678523Z",
     "start_time": "2021-04-11T12:38:34.674402Z"
    }
   },
   "source": [
    "### Test: Remove outliers and standardized"
   ]
  },
  {
   "cell_type": "code",
   "execution_count": 26,
   "metadata": {
    "ExecuteTime": {
     "end_time": "2021-04-11T12:40:59.400278Z",
     "start_time": "2021-04-11T12:40:56.216979Z"
    }
   },
   "outputs": [
    {
     "data": {
      "text/plain": [
       "ID_code    200000\n",
       "var_0       65580\n",
       "var_1       71661\n",
       "var_2       61865\n",
       "var_3       56507\n",
       "var_4       49995\n",
       "var_5       83228\n",
       "var_6       33273\n",
       "var_7       69487\n",
       "var_8       67521\n",
       "var_9       41583\n",
       "var_10      79221\n",
       "var_11      79749\n",
       "var_12       9121\n",
       "var_13      74037\n",
       "var_14      58951\n",
       "var_15      18253\n",
       "var_16      61906\n",
       "var_17      82518\n",
       "var_18      82682\n",
       "var_19      84370\n",
       "var_20      78645\n",
       "var_21      82738\n",
       "var_22      63855\n",
       "var_23      22619\n",
       "var_24      70202\n",
       "var_25      13728\n",
       "var_26      78260\n",
       "var_27      48428\n",
       "var_28      31321\n",
       "var_29      62618\n",
       "var_30      84985\n",
       "var_31      57146\n",
       "var_32      61890\n",
       "var_33      73157\n",
       "var_34      22954\n",
       "var_35      76756\n",
       "var_36      66309\n",
       "var_37      58742\n",
       "var_38      74294\n",
       "var_39      73292\n",
       "var_40      83405\n",
       "var_41      80327\n",
       "var_42      28163\n",
       "var_43      14288\n",
       "var_44      78457\n",
       "var_45      92058\n",
       "var_46      65189\n",
       "var_47      87427\n",
       "var_48      86929\n",
       "var_49      82973\n",
       "var_50      28412\n",
       "var_51      83881\n",
       "var_52      76266\n",
       "var_53      29631\n",
       "var_54      84548\n",
       "var_55      79114\n",
       "var_56      69316\n",
       "var_57      31286\n",
       "var_58      73482\n",
       "var_59      32888\n",
       "var_60      73575\n",
       "var_61      88874\n",
       "var_62      55891\n",
       "var_63      66913\n",
       "var_64      47632\n",
       "var_65      71421\n",
       "var_66      40071\n",
       "var_67      81931\n",
       "var_68        428\n",
       "var_69      72217\n",
       "var_70      86863\n",
       "var_71      12604\n",
       "var_72      72162\n",
       "var_73      83685\n",
       "var_74      89343\n",
       "var_75      79183\n",
       "var_76      82703\n",
       "var_77      71025\n",
       "var_78      54942\n",
       "var_79      44041\n",
       "var_80      81543\n",
       "var_81      58200\n",
       "var_82      84426\n",
       "var_83      84275\n",
       "var_84      80933\n",
       "var_85      71490\n",
       "var_86      82894\n",
       "var_87      77815\n",
       "var_88      61261\n",
       "var_89      69297\n",
       "var_90      88329\n",
       "var_91       7569\n",
       "var_92      72603\n",
       "var_93      23637\n",
       "var_94      63414\n",
       "var_95      26068\n",
       "var_96      85505\n",
       "var_97      88491\n",
       "var_98      29142\n",
       "var_99      53278\n",
       "var_100     86300\n",
       "var_101     76802\n",
       "var_102     84953\n",
       "var_103      8828\n",
       "var_104     55066\n",
       "var_105     33485\n",
       "var_106     54037\n",
       "var_107     82101\n",
       "var_108      8188\n",
       "var_109     73053\n",
       "var_110     70177\n",
       "var_111     38860\n",
       "var_112     48537\n",
       "var_113     74676\n",
       "var_114     36606\n",
       "var_115     61894\n",
       "var_116     50209\n",
       "var_117     90342\n",
       "var_118     84091\n",
       "var_119     72992\n",
       "var_120     88478\n",
       "var_121     50805\n",
       "var_122     76235\n",
       "var_123     79307\n",
       "var_124     63864\n",
       "var_125     14744\n",
       "var_126     29224\n",
       "var_127     66401\n",
       "var_128     67606\n",
       "var_129     73434\n",
       "var_130     32095\n",
       "var_131     19765\n",
       "var_132     46669\n",
       "var_133     17411\n",
       "var_134     80100\n",
       "var_135     83073\n",
       "var_136     88160\n",
       "var_137     84520\n",
       "var_138     75048\n",
       "var_139     81961\n",
       "var_140     76537\n",
       "var_141     81076\n",
       "var_142     79095\n",
       "var_143     65590\n",
       "var_144     35056\n",
       "var_145     71625\n",
       "var_146     60676\n",
       "var_147     82134\n",
       "var_148      9964\n",
       "var_149     85452\n",
       "var_150     60849\n",
       "var_151     72184\n",
       "var_152     66139\n",
       "var_153     55749\n",
       "var_154     75651\n",
       "var_155     78595\n",
       "var_156     35466\n",
       "var_157     78323\n",
       "var_158     84373\n",
       "var_159     73068\n",
       "var_160     88104\n",
       "var_161     10506\n",
       "var_162     46306\n",
       "var_163     76976\n",
       "var_164     77121\n",
       "var_165     75703\n",
       "var_166     16683\n",
       "var_167     83182\n",
       "var_168     66656\n",
       "var_169     16759\n",
       "var_170     73455\n",
       "var_171     77918\n",
       "var_172     83916\n",
       "var_173     78845\n",
       "var_174     80987\n",
       "var_175     64937\n",
       "var_176     83905\n",
       "var_177     61780\n",
       "var_178     84537\n",
       "var_179     63473\n",
       "var_180     77195\n",
       "var_181     45307\n",
       "var_182     85984\n",
       "var_183     75174\n",
       "var_184     84500\n",
       "var_185     76106\n",
       "var_186     67204\n",
       "var_187     88290\n",
       "var_188     71322\n",
       "var_189     36220\n",
       "var_190     73782\n",
       "var_191     65460\n",
       "var_192     47041\n",
       "var_193     72171\n",
       "var_194     66942\n",
       "var_195     46482\n",
       "var_196     78038\n",
       "var_197     34817\n",
       "var_198     65262\n",
       "var_199     85933\n",
       "dtype: int64"
      ]
     },
     "execution_count": 26,
     "metadata": {},
     "output_type": "execute_result"
    }
   ],
   "source": [
    "test.nunique()"
   ]
  },
  {
   "cell_type": "code",
   "execution_count": 9,
   "metadata": {
    "ExecuteTime": {
     "end_time": "2021-04-11T12:41:08.308836Z",
     "start_time": "2021-04-11T12:40:59.404739Z"
    }
   },
   "outputs": [],
   "source": [
    "# winsorizing to take out outliers\n",
    "for col in test.drop(['ID_code'],axis=1).columns:\n",
    "    test[col] = winsorize(array(test[col]), limits=[0.00,0.01])"
   ]
  },
  {
   "cell_type": "code",
   "execution_count": 10,
   "metadata": {
    "ExecuteTime": {
     "end_time": "2021-04-11T12:42:15.250683Z",
     "start_time": "2021-04-11T12:42:14.509062Z"
    }
   },
   "outputs": [],
   "source": [
    "# standardization with min max scale\n",
    "from sklearn import preprocessing\n",
    "\n",
    "dont_include_cols = ['ID_code']\n",
    "\n",
    "x = test.drop(dont_include_cols, axis=1).values #returns a numpy array\n",
    "min_max_scaler = preprocessing.MinMaxScaler()\n",
    "x_scaled = min_max_scaler.fit_transform(x)\n",
    "test_st = pd.DataFrame(x_scaled)"
   ]
  },
  {
   "cell_type": "code",
   "execution_count": 11,
   "metadata": {
    "ExecuteTime": {
     "end_time": "2021-04-11T12:42:51.623684Z",
     "start_time": "2021-04-11T12:42:51.436072Z"
    }
   },
   "outputs": [],
   "source": [
    "# rename columns\n",
    "test_st.columns = test.drop(dont_include_cols, axis=1).columns\n",
    "test_st['ID_code'] = test['ID_code']"
   ]
  },
  {
   "cell_type": "markdown",
   "metadata": {},
   "source": [
    "## Modelisation"
   ]
  },
  {
   "cell_type": "code",
   "execution_count": 30,
   "metadata": {
    "ExecuteTime": {
     "end_time": "2021-04-11T12:43:31.848635Z",
     "start_time": "2021-04-11T12:43:31.826777Z"
    }
   },
   "outputs": [
    {
     "data": {
      "text/plain": [
       "['var_0',\n",
       " 'var_1',\n",
       " 'var_2',\n",
       " 'var_3',\n",
       " 'var_4',\n",
       " 'var_5',\n",
       " 'var_6',\n",
       " 'var_7',\n",
       " 'var_8',\n",
       " 'var_9',\n",
       " 'var_10',\n",
       " 'var_11',\n",
       " 'var_12',\n",
       " 'var_13',\n",
       " 'var_14',\n",
       " 'var_15',\n",
       " 'var_16',\n",
       " 'var_17',\n",
       " 'var_18',\n",
       " 'var_19',\n",
       " 'var_20',\n",
       " 'var_21',\n",
       " 'var_22',\n",
       " 'var_23',\n",
       " 'var_24',\n",
       " 'var_25',\n",
       " 'var_26',\n",
       " 'var_27',\n",
       " 'var_28',\n",
       " 'var_29',\n",
       " 'var_30',\n",
       " 'var_31',\n",
       " 'var_32',\n",
       " 'var_33',\n",
       " 'var_34',\n",
       " 'var_35',\n",
       " 'var_36',\n",
       " 'var_37',\n",
       " 'var_38',\n",
       " 'var_39',\n",
       " 'var_40',\n",
       " 'var_41',\n",
       " 'var_42',\n",
       " 'var_43',\n",
       " 'var_44',\n",
       " 'var_45',\n",
       " 'var_46',\n",
       " 'var_47',\n",
       " 'var_48',\n",
       " 'var_49',\n",
       " 'var_50',\n",
       " 'var_51',\n",
       " 'var_52',\n",
       " 'var_53',\n",
       " 'var_54',\n",
       " 'var_55',\n",
       " 'var_56',\n",
       " 'var_57',\n",
       " 'var_58',\n",
       " 'var_59',\n",
       " 'var_60',\n",
       " 'var_61',\n",
       " 'var_62',\n",
       " 'var_63',\n",
       " 'var_64',\n",
       " 'var_65',\n",
       " 'var_66',\n",
       " 'var_67',\n",
       " 'var_68',\n",
       " 'var_69',\n",
       " 'var_70',\n",
       " 'var_71',\n",
       " 'var_72',\n",
       " 'var_73',\n",
       " 'var_74',\n",
       " 'var_75',\n",
       " 'var_76',\n",
       " 'var_77',\n",
       " 'var_78',\n",
       " 'var_79',\n",
       " 'var_80',\n",
       " 'var_81',\n",
       " 'var_82',\n",
       " 'var_83',\n",
       " 'var_84',\n",
       " 'var_85',\n",
       " 'var_86',\n",
       " 'var_87',\n",
       " 'var_88',\n",
       " 'var_89',\n",
       " 'var_90',\n",
       " 'var_91',\n",
       " 'var_92',\n",
       " 'var_93',\n",
       " 'var_94',\n",
       " 'var_95',\n",
       " 'var_96',\n",
       " 'var_97',\n",
       " 'var_98',\n",
       " 'var_99',\n",
       " 'var_100',\n",
       " 'var_101',\n",
       " 'var_102',\n",
       " 'var_103',\n",
       " 'var_104',\n",
       " 'var_105',\n",
       " 'var_106',\n",
       " 'var_107',\n",
       " 'var_108',\n",
       " 'var_109',\n",
       " 'var_110',\n",
       " 'var_111',\n",
       " 'var_112',\n",
       " 'var_113',\n",
       " 'var_114',\n",
       " 'var_115',\n",
       " 'var_116',\n",
       " 'var_117',\n",
       " 'var_118',\n",
       " 'var_119',\n",
       " 'var_120',\n",
       " 'var_121',\n",
       " 'var_122',\n",
       " 'var_123',\n",
       " 'var_124',\n",
       " 'var_125',\n",
       " 'var_126',\n",
       " 'var_127',\n",
       " 'var_128',\n",
       " 'var_129',\n",
       " 'var_130',\n",
       " 'var_131',\n",
       " 'var_132',\n",
       " 'var_133',\n",
       " 'var_134',\n",
       " 'var_135',\n",
       " 'var_136',\n",
       " 'var_137',\n",
       " 'var_138',\n",
       " 'var_139',\n",
       " 'var_140',\n",
       " 'var_141',\n",
       " 'var_142',\n",
       " 'var_143',\n",
       " 'var_144',\n",
       " 'var_145',\n",
       " 'var_146',\n",
       " 'var_147',\n",
       " 'var_148',\n",
       " 'var_149',\n",
       " 'var_150',\n",
       " 'var_151',\n",
       " 'var_152',\n",
       " 'var_153',\n",
       " 'var_154',\n",
       " 'var_155',\n",
       " 'var_156',\n",
       " 'var_157',\n",
       " 'var_158',\n",
       " 'var_159',\n",
       " 'var_160',\n",
       " 'var_161',\n",
       " 'var_162',\n",
       " 'var_163',\n",
       " 'var_164',\n",
       " 'var_165',\n",
       " 'var_166',\n",
       " 'var_167',\n",
       " 'var_168',\n",
       " 'var_169',\n",
       " 'var_170',\n",
       " 'var_171',\n",
       " 'var_172',\n",
       " 'var_173',\n",
       " 'var_174',\n",
       " 'var_175',\n",
       " 'var_176',\n",
       " 'var_177',\n",
       " 'var_178',\n",
       " 'var_179',\n",
       " 'var_180',\n",
       " 'var_181',\n",
       " 'var_182',\n",
       " 'var_183',\n",
       " 'var_184',\n",
       " 'var_185',\n",
       " 'var_186',\n",
       " 'var_187',\n",
       " 'var_188',\n",
       " 'var_189',\n",
       " 'var_190',\n",
       " 'var_191',\n",
       " 'var_192',\n",
       " 'var_193',\n",
       " 'var_194',\n",
       " 'var_195',\n",
       " 'var_196',\n",
       " 'var_197',\n",
       " 'var_198',\n",
       " 'var_199',\n",
       " 'target',\n",
       " 'ID_code']"
      ]
     },
     "execution_count": 30,
     "metadata": {},
     "output_type": "execute_result"
    }
   ],
   "source": [
    "train_st.columns.to_list()"
   ]
  },
  {
   "cell_type": "code",
   "execution_count": 12,
   "metadata": {
    "ExecuteTime": {
     "end_time": "2021-04-11T19:29:11.009842Z",
     "start_time": "2021-04-11T19:29:09.714071Z"
    }
   },
   "outputs": [
    {
     "name": "stdout",
     "output_type": "stream",
     "text": [
      "var_0 - p-value = 7.6429054662627255e-121 - selected : 1\n",
      "var_1 - p-value = 2.6993783820423167e-111 - selected : 1\n",
      "var_2 - p-value = 5.020262235878718e-137 - selected : 1\n",
      "var_3 - p-value = 1.307363971085223e-06 - selected : 1\n",
      "var_4 - p-value = 1.026604141928873e-06 - selected : 1\n",
      "var_5 - p-value = 5.1233323926587986e-43 - selected : 1\n",
      "var_6 - p-value = 8.783748987303271e-195 - selected : 1\n",
      "var_7 - p-value = 0.17147548510010868 - selected : 0\n",
      "var_8 - p-value = 1.6177855821477955e-18 - selected : 1\n",
      "var_9 - p-value = 9.427348235719134e-82 - selected : 1\n",
      "var_10 - p-value = 0.347537734860646 - selected : 0\n",
      "var_11 - p-value = 1.7088149397247163e-24 - selected : 1\n",
      "var_12 - p-value = 5.700002761674831e-214 - selected : 1\n",
      "var_13 - p-value = 2.946740027691815e-135 - selected : 1\n",
      "var_14 - p-value = 0.005189733791129805 - selected : 1\n",
      "var_15 - p-value = 1.552183788251263e-14 - selected : 1\n",
      "var_16 - p-value = 0.0002917524031947955 - selected : 1\n",
      "var_17 - p-value = 0.6987301345084505 - selected : 0\n",
      "var_18 - p-value = 1.3546361090074583e-82 - selected : 1\n",
      "var_19 - p-value = 5.295472027876981e-07 - selected : 1\n",
      "var_20 - p-value = 2.557391099015081e-16 - selected : 1\n",
      "var_21 - p-value = 8.402827919908395e-152 - selected : 1\n",
      "var_22 - p-value = 1.7649540181548414e-158 - selected : 1\n",
      "var_23 - p-value = 2.6307227196052995e-30 - selected : 1\n",
      "var_24 - p-value = 9.041345308148439e-37 - selected : 1\n",
      "var_25 - p-value = 2.635920465765863e-09 - selected : 1\n",
      "var_26 - p-value = 1.292810332066318e-170 - selected : 1\n",
      "var_27 - p-value = 0.8027637035535211 - selected : 0\n",
      "var_28 - p-value = 4.473482859003507e-27 - selected : 1\n",
      "var_29 - p-value = 0.03618886678923601 - selected : 1\n",
      "var_30 - p-value = 0.7863503101732012 - selected : 0\n",
      "var_31 - p-value = 1.2262928603593783e-30 - selected : 1\n",
      "var_32 - p-value = 6.302570801848604e-42 - selected : 1\n",
      "var_33 - p-value = 2.974616636907086e-88 - selected : 1\n",
      "var_34 - p-value = 1.4920639504995198e-123 - selected : 1\n",
      "var_35 - p-value = 3.711250619820547e-60 - selected : 1\n",
      "var_36 - p-value = 1.1655855992205722e-66 - selected : 1\n",
      "var_37 - p-value = 0.000614991310609306 - selected : 1\n",
      "var_38 - p-value = 0.681306356824095 - selected : 0\n",
      "var_39 - p-value = 0.06856564136370998 - selected : 0\n",
      "var_40 - p-value = 2.056296045680181e-108 - selected : 1\n",
      "var_41 - p-value = 0.5592809825654487 - selected : 0\n",
      "var_42 - p-value = 0.00016074387172100357 - selected : 1\n",
      "var_43 - p-value = 1.1646775309811542e-37 - selected : 1\n",
      "var_44 - p-value = 9.371465160182484e-108 - selected : 1\n",
      "var_45 - p-value = 3.227982741728959e-19 - selected : 1\n",
      "var_46 - p-value = 0.014278340113856076 - selected : 1\n",
      "var_47 - p-value = 6.0605677038981444e-05 - selected : 1\n",
      "var_48 - p-value = 1.4065280577930697e-47 - selected : 1\n",
      "var_49 - p-value = 9.814596761820584e-42 - selected : 1\n",
      "var_50 - p-value = 4.06882655281124e-10 - selected : 1\n",
      "var_51 - p-value = 2.422007143501815e-30 - selected : 1\n",
      "var_52 - p-value = 1.5138218404392293e-35 - selected : 1\n",
      "var_53 - p-value = 6.029369454131224e-177 - selected : 1\n",
      "var_54 - p-value = 1.1514897280471938e-12 - selected : 1\n",
      "var_55 - p-value = 3.4497553675088694e-14 - selected : 1\n",
      "var_56 - p-value = 3.1954706388852764e-55 - selected : 1\n",
      "var_57 - p-value = 4.523733030924463e-12 - selected : 1\n",
      "var_58 - p-value = 1.027216528552489e-27 - selected : 1\n",
      "var_59 - p-value = 2.73515410506749e-06 - selected : 1\n",
      "var_60 - p-value = 0.0059712779887928 - selected : 1\n",
      "var_61 - p-value = 0.0009127843855128724 - selected : 1\n",
      "var_62 - p-value = 6.742865607745782e-10 - selected : 1\n",
      "var_63 - p-value = 5.996021670259683e-11 - selected : 1\n",
      "var_64 - p-value = 5.649807248342058e-10 - selected : 1\n",
      "var_65 - p-value = 5.6052837740688e-07 - selected : 1\n",
      "var_66 - p-value = 7.093830285852659e-25 - selected : 1\n",
      "var_67 - p-value = 7.82863735380053e-89 - selected : 1\n",
      "var_68 - p-value = 7.250630969132219e-08 - selected : 1\n",
      "var_69 - p-value = 0.00027787772754111134 - selected : 1\n",
      "var_70 - p-value = 7.149842337413716e-33 - selected : 1\n",
      "var_71 - p-value = 1.1025251308679616e-50 - selected : 1\n",
      "var_72 - p-value = 4.813397486940234e-09 - selected : 1\n",
      "var_73 - p-value = 0.0034817134742203388 - selected : 1\n",
      "var_74 - p-value = 1.793265253026312e-19 - selected : 1\n",
      "var_75 - p-value = 1.1025861477955278e-65 - selected : 1\n",
      "var_76 - p-value = 1.1818331543002904e-170 - selected : 1\n",
      "var_77 - p-value = 5.2760892389154585e-15 - selected : 1\n",
      "var_78 - p-value = 1.0032663493208669e-100 - selected : 1\n",
      "var_79 - p-value = 0.0008620125579246264 - selected : 1\n",
      "var_80 - p-value = 2.1815716915618398e-147 - selected : 1\n",
      "var_81 - p-value = 4.396465162533984e-291 - selected : 1\n",
      "var_82 - p-value = 1.2088425657497664e-23 - selected : 1\n",
      "var_83 - p-value = 2.8641439480114266e-20 - selected : 1\n",
      "var_84 - p-value = 3.502593377472296e-08 - selected : 1\n",
      "var_85 - p-value = 4.892814541126717e-28 - selected : 1\n",
      "var_86 - p-value = 3.538016119371371e-69 - selected : 1\n",
      "var_87 - p-value = 1.5856507666784876e-58 - selected : 1\n",
      "var_88 - p-value = 1.5183720952755664e-20 - selected : 1\n",
      "var_89 - p-value = 2.7348308382562205e-69 - selected : 1\n",
      "var_90 - p-value = 3.516138047014431e-39 - selected : 1\n",
      "var_91 - p-value = 1.3125707974786197e-70 - selected : 1\n",
      "var_92 - p-value = 7.391118631806948e-96 - selected : 1\n",
      "var_93 - p-value = 5.376213845511989e-56 - selected : 1\n",
      "var_94 - p-value = 6.640392411478365e-94 - selected : 1\n",
      "var_95 - p-value = 4.4169072592208387e-66 - selected : 1\n",
      "var_96 - p-value = 0.1810232228738844 - selected : 0\n",
      "var_97 - p-value = 1.2359958194469508e-11 - selected : 1\n",
      "var_98 - p-value = 0.05939281022667906 - selected : 0\n",
      "var_99 - p-value = 5.133362106775511e-150 - selected : 1\n",
      "var_100 - p-value = 0.3097818198829326 - selected : 0\n",
      "var_101 - p-value = 4.234399657647277e-05 - selected : 1\n",
      "var_102 - p-value = 2.4189541801894587e-16 - selected : 1\n",
      "var_103 - p-value = 0.5454644414637028 - selected : 0\n",
      "var_104 - p-value = 6.464703121654222e-33 - selected : 1\n",
      "var_105 - p-value = 3.4613618026519516e-30 - selected : 1\n",
      "var_106 - p-value = 1.085344251813346e-48 - selected : 1\n",
      "var_107 - p-value = 2.380829015708268e-72 - selected : 1\n",
      "var_108 - p-value = 1.6706119539126525e-89 - selected : 1\n",
      "var_109 - p-value = 6.965753626007008e-111 - selected : 1\n",
      "var_110 - p-value = 7.309412000602296e-180 - selected : 1\n",
      "var_111 - p-value = 3.32200423485133e-32 - selected : 1\n",
      "var_112 - p-value = 1.6454138645675544e-26 - selected : 1\n",
      "var_113 - p-value = 8.840213089617267e-10 - selected : 1\n",
      "var_114 - p-value = 4.603956612241635e-32 - selected : 1\n",
      "var_115 - p-value = 3.900336605149096e-112 - selected : 1\n",
      "var_116 - p-value = 7.766980954754868e-26 - selected : 1\n",
      "var_117 - p-value = 0.2616248115302324 - selected : 0\n",
      "var_118 - p-value = 6.368194583507e-73 - selected : 1\n",
      "var_119 - p-value = 8.851167195556886e-43 - selected : 1\n",
      "var_120 - p-value = 1.2556645912076638e-06 - selected : 1\n",
      "var_121 - p-value = 1.7025649035459661e-71 - selected : 1\n",
      "var_122 - p-value = 5.940100952105599e-81 - selected : 1\n",
      "var_123 - p-value = 2.457215054505949e-73 - selected : 1\n",
      "var_124 - p-value = 0.06575876267997029 - selected : 0\n",
      "var_125 - p-value = 1.1917564120594764e-35 - selected : 1\n",
      "var_126 - p-value = 0.5486088750853139 - selected : 0\n",
      "var_127 - p-value = 5.362251253792219e-69 - selected : 1\n",
      "var_128 - p-value = 3.940543145472989e-33 - selected : 1\n",
      "var_129 - p-value = 0.01018494662000943 - selected : 1\n",
      "var_130 - p-value = 1.0126277229454602e-39 - selected : 1\n",
      "var_131 - p-value = 6.318011001663261e-48 - selected : 1\n",
      "var_132 - p-value = 3.125220701646997e-28 - selected : 1\n",
      "var_133 - p-value = 3.616167475928815e-129 - selected : 1\n",
      "var_134 - p-value = 1.5137688368849387e-14 - selected : 1\n",
      "var_135 - p-value = 1.3075181692303614e-35 - selected : 1\n",
      "var_136 - p-value = 0.10894807633075798 - selected : 0\n",
      "var_137 - p-value = 1.5635067486264373e-33 - selected : 1\n",
      "var_138 - p-value = 2.8636948642967126e-16 - selected : 1\n",
      "var_139 - p-value = 8.885147111886783e-243 - selected : 1\n",
      "var_140 - p-value = 7.865734571625554e-12 - selected : 1\n",
      "var_141 - p-value = 3.0165173881312486e-40 - selected : 1\n",
      "var_142 - p-value = 2.8683587587195236e-17 - selected : 1\n",
      "var_143 - p-value = 5.433551082860231e-07 - selected : 1\n",
      "var_144 - p-value = 3.0672234253469606e-21 - selected : 1\n",
      "var_145 - p-value = 4.357852420138008e-43 - selected : 1\n",
      "var_146 - p-value = 9.211071808186022e-180 - selected : 1\n",
      "var_147 - p-value = 1.786116260464788e-71 - selected : 1\n",
      "var_148 - p-value = 2.3852411337186688e-135 - selected : 1\n",
      "var_149 - p-value = 5.695870546852347e-100 - selected : 1\n",
      "var_150 - p-value = 3.638385666129751e-31 - selected : 1\n",
      "var_151 - p-value = 2.8375218112652216e-34 - selected : 1\n",
      "var_152 - p-value = 1.1384826066835497e-06 - selected : 1\n",
      "var_153 - p-value = 0.0014358388871779015 - selected : 1\n",
      "var_154 - p-value = 1.6661730968332415e-95 - selected : 1\n",
      "var_155 - p-value = 2.849028157751047e-61 - selected : 1\n",
      "var_156 - p-value = 4.657877202954683e-21 - selected : 1\n",
      "var_157 - p-value = 5.151651200659908e-48 - selected : 1\n",
      "var_158 - p-value = 0.0959501770000118 - selected : 0\n",
      "var_159 - p-value = 7.730480108228411e-12 - selected : 1\n",
      "var_160 - p-value = 0.021739574349673416 - selected : 1\n",
      "var_161 - p-value = 0.06455350552883417 - selected : 0\n"
     ]
    },
    {
     "name": "stdout",
     "output_type": "stream",
     "text": [
      "var_162 - p-value = 1.1833517466506236e-47 - selected : 1\n",
      "var_163 - p-value = 2.6913691188184742e-45 - selected : 1\n",
      "var_164 - p-value = 1.360258900648927e-74 - selected : 1\n",
      "var_165 - p-value = 9.374909533978049e-139 - selected : 1\n",
      "var_166 - p-value = 1.0287488836159223e-148 - selected : 1\n",
      "var_167 - p-value = 3.9006273072893835e-43 - selected : 1\n",
      "var_168 - p-value = 3.7955515917734415e-10 - selected : 1\n",
      "var_169 - p-value = 2.4150657185979448e-104 - selected : 1\n",
      "var_170 - p-value = 9.113883261581193e-100 - selected : 1\n",
      "var_171 - p-value = 4.4729653673018545e-11 - selected : 1\n",
      "var_172 - p-value = 3.379461219992791e-65 - selected : 1\n",
      "var_173 - p-value = 3.8329974428562924e-79 - selected : 1\n",
      "var_174 - p-value = 1.7933796898589801e-168 - selected : 1\n",
      "var_175 - p-value = 4.887649269662728e-22 - selected : 1\n",
      "var_176 - p-value = 0.000865187638027705 - selected : 1\n",
      "var_177 - p-value = 1.493599665363021e-61 - selected : 1\n",
      "var_178 - p-value = 9.11303093974387e-19 - selected : 1\n",
      "var_179 - p-value = 3.59489186966322e-109 - selected : 1\n",
      "var_180 - p-value = 4.734962829910385e-44 - selected : 1\n",
      "var_181 - p-value = 9.451671033512032e-10 - selected : 1\n",
      "var_182 - p-value = 0.001097490263859221 - selected : 1\n",
      "var_183 - p-value = 0.013651969583612308 - selected : 1\n",
      "var_184 - p-value = 2.1602582734715512e-101 - selected : 1\n",
      "var_185 - p-value = 0.9826279184476943 - selected : 0\n",
      "var_186 - p-value = 2.451276976658018e-42 - selected : 1\n",
      "var_187 - p-value = 3.208866624525209e-11 - selected : 1\n",
      "var_188 - p-value = 2.0992697971708156e-52 - selected : 1\n",
      "var_189 - p-value = 4.0117408614410464e-05 - selected : 1\n",
      "var_190 - p-value = 1.5625440297625861e-137 - selected : 1\n",
      "var_191 - p-value = 3.0512354938038134e-97 - selected : 1\n",
      "var_192 - p-value = 1.5434761317720614e-82 - selected : 1\n",
      "var_193 - p-value = 2.2671076390884187e-15 - selected : 1\n",
      "var_194 - p-value = 1.2031858829884869e-24 - selected : 1\n",
      "var_195 - p-value = 1.4765045459252404e-36 - selected : 1\n",
      "var_196 - p-value = 5.155360438602907e-26 - selected : 1\n",
      "var_197 - p-value = 3.465680786438354e-56 - selected : 1\n",
      "var_198 - p-value = 1.2897013481789736e-125 - selected : 1\n",
      "var_199 - p-value = 2.2090109416983537e-30 - selected : 1\n"
     ]
    }
   ],
   "source": [
    "# pearson correlation to select the features (sign = 0.005\n",
    "selectedFeatures = []\n",
    "target = \"target\"\n",
    "\n",
    "trainingSet_columns = train_st.drop(['target','ID_code'],axis=1).columns.to_list()\n",
    "\n",
    "for column in trainingSet_columns:\n",
    "        (pearson,pvalue) = pearsonr(train_st[column],train_st[target])\n",
    "        print(f\"{column} - p-value = {pvalue} - selected : {1 if pvalue < 0.05 else 0}\")\n",
    "        if pvalue < 0.05:\n",
    "            selectedFeatures.append(column)"
   ]
  },
  {
   "cell_type": "code",
   "execution_count": 13,
   "metadata": {
    "ExecuteTime": {
     "end_time": "2021-04-11T19:24:39.710262Z",
     "start_time": "2021-04-11T19:24:37.255299Z"
    }
   },
   "outputs": [
    {
     "data": {
      "text/plain": [
       "SelectFromModel(estimator=LogisticRegression(C=1))"
      ]
     },
     "execution_count": 13,
     "metadata": {},
     "output_type": "execute_result"
    }
   ],
   "source": [
    "# LASSO REGRESSION\n",
    "from sklearn.linear_model import Lasso, LogisticRegression\n",
    "from sklearn.feature_selection import SelectFromModel\n",
    "from sklearn.preprocessing import StandardScaler\n",
    "\n",
    "trainingSet_columns = train_st.drop(['target','ID_code'],axis=1).columns.to_list()\n",
    "target = \"target\"\n",
    "\n",
    "scaler = StandardScaler()\n",
    "scaler.fit(train_st[trainingSet_columns].fillna(0))\n",
    "\n",
    "sel_ = SelectFromModel(LogisticRegression(C=1, penalty='l2'))\n",
    "sel_.fit(scaler.transform(train_st[trainingSet_columns].fillna(0)), train_st[target])"
   ]
  },
  {
   "cell_type": "code",
   "execution_count": 14,
   "metadata": {
    "ExecuteTime": {
     "end_time": "2021-04-11T19:25:09.663738Z",
     "start_time": "2021-04-11T19:25:09.435439Z"
    }
   },
   "outputs": [
    {
     "name": "stdout",
     "output_type": "stream",
     "text": [
      "total features: 200\n",
      "selected features: 97\n",
      "features with coefficients shrank to zero: 0\n"
     ]
    }
   ],
   "source": [
    "selected_feat = train_st[trainingSet_columns].columns[(sel_.get_support())]\n",
    "print('total features: {}'.format((train_st[trainingSet_columns].shape[1])))\n",
    "print('selected features: {}'.format(len(selected_feat)))\n",
    "print('features with coefficients shrank to zero: {}'.format(\n",
    "      np.sum(sel_.estimator_.coef_ == 0)))"
   ]
  },
  {
   "cell_type": "code",
   "execution_count": 26,
   "metadata": {},
   "outputs": [
    {
     "data": {
      "text/plain": [
       "(200000, 181)"
      ]
     },
     "execution_count": 26,
     "metadata": {},
     "output_type": "execute_result"
    }
   ],
   "source": [
    "basetable = pd.DataFrame(train_st[selectedFeatures], train_st[target])\n",
    "basetable.shape"
   ]
  },
  {
   "cell_type": "code",
   "execution_count": 27,
   "metadata": {},
   "outputs": [],
   "source": [
    "basetable.to_csv(\"basetable.csv\")"
   ]
  },
  {
   "cell_type": "code",
   "execution_count": 34,
   "metadata": {
    "ExecuteTime": {
     "end_time": "2021-04-11T19:25:53.645388Z",
     "start_time": "2021-04-11T19:25:53.633391Z"
    }
   },
   "outputs": [],
   "source": [
    "# selectedFeatures = selected_feat"
   ]
  },
  {
   "cell_type": "code",
   "execution_count": 29,
   "metadata": {
    "ExecuteTime": {
     "end_time": "2021-04-11T19:29:19.638513Z",
     "start_time": "2021-04-11T19:29:19.619570Z"
    }
   },
   "outputs": [
    {
     "name": "stdout",
     "output_type": "stream",
     "text": [
      "200\n",
      "181\n"
     ]
    }
   ],
   "source": [
    "# check length of columns\n",
    "print(len(trainingSet_columns))\n",
    "print(len(selectedFeatures))"
   ]
  },
  {
   "cell_type": "code",
   "execution_count": 31,
   "metadata": {
    "ExecuteTime": {
     "end_time": "2021-04-11T14:45:05.738312Z",
     "start_time": "2021-04-11T14:45:05.724087Z"
    }
   },
   "outputs": [],
   "source": [
    "# instanciate the models\n",
    "logistic     = LogisticRegression()\n",
    "tree         = DecisionTreeClassifier()\n",
    "randomForest = RandomForestClassifier()\n",
    "boostedTree  = GradientBoostingClassifier()\n",
    "neuralNet    = MLPClassifier()\n",
    "neighbors    = KNeighborsClassifier()"
   ]
  },
  {
   "cell_type": "code",
   "execution_count": 32,
   "metadata": {
    "ExecuteTime": {
     "end_time": "2021-04-11T14:45:10.577372Z",
     "start_time": "2021-04-11T14:45:10.536334Z"
    }
   },
   "outputs": [],
   "source": [
    "# create a dict to loop through the models later on\n",
    "models = {\"logistic\"     :logistic,\n",
    "          \"tree\"         :tree,\n",
    "          \"boostedTree\"  :boostedTree }"
   ]
  },
  {
   "cell_type": "code",
   "execution_count": 14,
   "metadata": {},
   "outputs": [
    {
     "data": {
      "text/plain": [
       "0    179902\n",
       "1     20098\n",
       "Name: target, dtype: int64"
      ]
     },
     "execution_count": 14,
     "metadata": {},
     "output_type": "execute_result"
    }
   ],
   "source": [
    "train['target'].value_counts()"
   ]
  },
  {
   "cell_type": "code",
   "execution_count": 16,
   "metadata": {},
   "outputs": [
    {
     "data": {
      "text/plain": [
       "0.10049"
      ]
     },
     "execution_count": 16,
     "metadata": {},
     "output_type": "execute_result"
    }
   ],
   "source": [
    "20098/200000"
   ]
  },
  {
   "cell_type": "markdown",
   "metadata": {},
   "source": [
    "## Validation set"
   ]
  },
  {
   "cell_type": "code",
   "execution_count": 17,
   "metadata": {
    "ExecuteTime": {
     "end_time": "2021-04-11T14:45:13.457866Z",
     "start_time": "2021-04-11T14:45:12.315403Z"
    }
   },
   "outputs": [],
   "source": [
    "# create train and test set partition\n",
    "pre_train, valid = train_test_split(train_st, test_size=0.2, random_state=42)"
   ]
  },
  {
   "cell_type": "code",
   "execution_count": 65,
   "metadata": {},
   "outputs": [],
   "source": [
    "pre_train.to_csv(\"basetable.csv\")"
   ]
  },
  {
   "cell_type": "code",
   "execution_count": 48,
   "metadata": {
    "ExecuteTime": {
     "end_time": "2021-04-11T18:47:31.205816Z",
     "start_time": "2021-04-11T14:45:14.458001Z"
    },
    "scrolled": true
   },
   "outputs": [
    {
     "name": "stdout",
     "output_type": "stream",
     "text": [
      "logistic has been trained successfully\n",
      "tree has been trained successfully\n",
      "boostedTree has been trained successfully\n"
     ]
    }
   ],
   "source": [
    "# fit the models\n",
    "for model in models:\n",
    "    models[model].fit(pre_train[selectedFeatures],pre_train[target])\n",
    "    \n",
    "    print(f\"{model} has been trained successfully\")"
   ]
  },
  {
   "cell_type": "markdown",
   "metadata": {},
   "source": [
    "## Accuracy and AUC function definition\n"
   ]
  },
  {
   "cell_type": "code",
   "execution_count": 51,
   "metadata": {
    "ExecuteTime": {
     "end_time": "2021-04-11T18:55:23.343641Z",
     "start_time": "2021-04-11T18:55:22.608171Z"
    }
   },
   "outputs": [],
   "source": [
    "# compute AUC and accuracy scores\n",
    "\n",
    "performances = {}\n",
    "\n",
    "for model in models:\n",
    "    predictions   = models[model].predict(valid[selectedFeatures])\n",
    "    probabilities = DataFrame(models[model].predict_proba(valid[selectedFeatures]))[1]\n",
    "    accuracy      = accuracy_score(valid[target],predictions)\n",
    "    auc           = roc_auc_score(array(valid[target]),array(probabilities))\n",
    "    \n",
    "    performances[model] = {\"Accuracy\":accuracy,\"AUC\":auc}"
   ]
  },
  {
   "cell_type": "code",
   "execution_count": 59,
   "metadata": {},
   "outputs": [
    {
     "data": {
      "text/plain": [
       "0    193394\n",
       "1      6606\n",
       "Name: proba_lr, dtype: int64"
      ]
     },
     "execution_count": 59,
     "metadata": {},
     "output_type": "execute_result"
    }
   ],
   "source": [
    "# get predict on kaggle test set\n",
    "test_st['proba_lr'] = DataFrame(models['logistic'].predict(test_st[selectedFeatures]))\n",
    "test_st['proba_lr'].value_counts()"
   ]
  },
  {
   "cell_type": "code",
   "execution_count": 60,
   "metadata": {},
   "outputs": [
    {
     "data": {
      "text/plain": [
       "0    199347\n",
       "1       653\n",
       "Name: proba_boosted, dtype: int64"
      ]
     },
     "execution_count": 60,
     "metadata": {},
     "output_type": "execute_result"
    }
   ],
   "source": [
    "# get predict on kaggle test set\n",
    "test_st['proba_boosted'] = DataFrame(models['boostedTree'].predict(test_st[selectedFeatures]))\n",
    "test_st['proba_boosted'].value_counts()"
   ]
  },
  {
   "cell_type": "code",
   "execution_count": 62,
   "metadata": {},
   "outputs": [
    {
     "data": {
      "text/plain": [
       "0    174323\n",
       "1     25677\n",
       "Name: proba_tree, dtype: int64"
      ]
     },
     "execution_count": 62,
     "metadata": {},
     "output_type": "execute_result"
    }
   ],
   "source": [
    "# get predict on kaggle test set\n",
    "test_st['proba_tree'] = DataFrame(models['tree'].predict(test_st[selectedFeatures]))\n",
    "test_st['proba_tree'].value_counts()"
   ]
  },
  {
   "cell_type": "code",
   "execution_count": 52,
   "metadata": {
    "ExecuteTime": {
     "end_time": "2021-04-11T18:55:25.670876Z",
     "start_time": "2021-04-11T18:55:25.652879Z"
    }
   },
   "outputs": [
    {
     "data": {
      "text/html": [
       "<div>\n",
       "<style scoped>\n",
       "    .dataframe tbody tr th:only-of-type {\n",
       "        vertical-align: middle;\n",
       "    }\n",
       "\n",
       "    .dataframe tbody tr th {\n",
       "        vertical-align: top;\n",
       "    }\n",
       "\n",
       "    .dataframe thead th {\n",
       "        text-align: right;\n",
       "    }\n",
       "</style>\n",
       "<table border=\"1\" class=\"dataframe\">\n",
       "  <thead>\n",
       "    <tr style=\"text-align: right;\">\n",
       "      <th></th>\n",
       "      <th>logistic</th>\n",
       "      <th>tree</th>\n",
       "      <th>boostedTree</th>\n",
       "    </tr>\n",
       "  </thead>\n",
       "  <tbody>\n",
       "    <tr>\n",
       "      <th>Accuracy</th>\n",
       "      <td>0.912925</td>\n",
       "      <td>0.833475</td>\n",
       "      <td>0.900275</td>\n",
       "    </tr>\n",
       "    <tr>\n",
       "      <th>AUC</th>\n",
       "      <td>0.859806</td>\n",
       "      <td>0.560622</td>\n",
       "      <td>0.833390</td>\n",
       "    </tr>\n",
       "  </tbody>\n",
       "</table>\n",
       "</div>"
      ],
      "text/plain": [
       "          logistic      tree  boostedTree\n",
       "Accuracy  0.912925  0.833475     0.900275\n",
       "AUC       0.859806  0.560622     0.833390"
      ]
     },
     "execution_count": 52,
     "metadata": {},
     "output_type": "execute_result"
    }
   ],
   "source": [
    "# format to dataframe\n",
    "pd.DataFrame(performances)"
   ]
  },
  {
   "cell_type": "code",
   "execution_count": 63,
   "metadata": {
    "ExecuteTime": {
     "end_time": "2021-04-11T19:26:05.330303Z",
     "start_time": "2021-04-11T19:26:05.082169Z"
    }
   },
   "outputs": [
    {
     "name": "stderr",
     "output_type": "stream",
     "text": [
      "C:\\Users\\alexa\\anaconda3\\lib\\site-packages\\pandas\\core\\frame.py:4125: SettingWithCopyWarning: \n",
      "A value is trying to be set on a copy of a slice from a DataFrame\n",
      "\n",
      "See the caveats in the documentation: https://pandas.pydata.org/pandas-docs/stable/user_guide/indexing.html#returning-a-view-versus-a-copy\n",
      "  return super().rename(\n"
     ]
    }
   ],
   "source": [
    "# save predictions to csv\n",
    "proba_cols = [col for col in test_st.columns if 'proba' in col]\n",
    "for col in proba_cols:\n",
    "    predictions_csv = test_st[['ID_code',col]]\n",
    "    predictions_csv.rename({col:'target'},axis=1,inplace=True)\n",
    "    predictions_csv.to_csv('predictions_' + col + '_csv.csv', index = False)"
   ]
  },
  {
   "cell_type": "markdown",
   "metadata": {},
   "source": [
    "### Cross validation setup"
   ]
  },
  {
   "cell_type": "code",
   "execution_count": 42,
   "metadata": {
    "ExecuteTime": {
     "end_time": "2021-04-11T18:55:34.177901Z",
     "start_time": "2021-04-11T18:55:34.163902Z"
    }
   },
   "outputs": [
    {
     "data": {
      "text/plain": [
       "KFold(n_splits=3, random_state=None, shuffle=False)"
      ]
     },
     "execution_count": 42,
     "metadata": {},
     "output_type": "execute_result"
    }
   ],
   "source": [
    "# instanciate number of folds\n",
    "from sklearn.model_selection import KFold\n",
    "kf = KFold(n_splits=3)\n",
    "kf"
   ]
  },
  {
   "cell_type": "code",
   "execution_count": 43,
   "metadata": {
    "ExecuteTime": {
     "end_time": "2021-04-11T18:55:35.914270Z",
     "start_time": "2021-04-11T18:55:35.903239Z"
    }
   },
   "outputs": [
    {
     "data": {
      "text/plain": [
       "<generator object _BaseKFold.split at 0x0000014936C4BCF0>"
      ]
     },
     "execution_count": 43,
     "metadata": {},
     "output_type": "execute_result"
    }
   ],
   "source": [
    "# split the train data\n",
    "kf.split(pre_train)"
   ]
  },
  {
   "cell_type": "code",
   "execution_count": 44,
   "metadata": {
    "ExecuteTime": {
     "end_time": "2021-04-11T19:11:33.030365Z",
     "start_time": "2021-04-11T18:55:36.861052Z"
    }
   },
   "outputs": [
    {
     "name": "stdout",
     "output_type": "stream",
     "text": [
      "logistic [0.84881009 0.86134826 0.85585673 0.8633326  0.85106172]\n",
      "tree [0.54863456 0.55397978 0.55396865 0.55341395 0.55069808]\n",
      "boostedTree [0.8182349  0.82954765 0.82124175 0.82144405 0.81591531]\n"
     ]
    }
   ],
   "source": [
    "# calculate AUC score for all models' fold\n",
    "from sklearn.model_selection import cross_val_score\n",
    "\n",
    "for model in models:\n",
    "    print(model, cross_val_score(models[model],valid[selectedFeatures],valid[target],scoring=\"roc_auc\"))"
   ]
  },
  {
   "cell_type": "code",
   "execution_count": 45,
   "metadata": {
    "ExecuteTime": {
     "end_time": "2021-04-11T19:12:01.709965Z",
     "start_time": "2021-04-11T19:12:01.696968Z"
    }
   },
   "outputs": [],
   "source": [
    "# logistic_cv = [0.84880839, 0.86134809, 0.85585673, 0.8633326, 0.85106172]\n",
    "# tree_cv = [0.55477188, 0.54090193, 0.551789, 0.5460799, 0.55073205]\n",
    "# boostedTree_cv = [0.81819749, 0.82954765, 0.82119992, 0.82144405, 0.81591531]"
   ]
  },
  {
   "cell_type": "code",
   "execution_count": 46,
   "metadata": {
    "ExecuteTime": {
     "end_time": "2021-04-11T19:12:54.695882Z",
     "start_time": "2021-04-11T19:12:54.681885Z"
    }
   },
   "outputs": [
    {
     "name": "stdout",
     "output_type": "stream",
     "text": [
      "logistic_cv ---mean 0.856 ---stddev 0.006 ---variance 3e-05\n",
      "tree_cv ---mean 0.549 ---stddev 0.005 ---variance 2e-05\n",
      "boostedTree_cv ---mean 0.821 ---stddev 0.005 ---variance 2e-05\n"
     ]
    }
   ],
   "source": [
    "# # compute mean and standard deviation\n",
    "\n",
    "# import statistics as stat\n",
    "\n",
    "# results_cv = {\"logistic_cv\":logistic_cv,\n",
    "#               \"tree_cv\":tree_cv,\n",
    "# #               \"randomForest_cv\":randomForest_cv,\n",
    "#               \"boostedTree_cv\":boostedTree_cv,\n",
    "# #               \"neuralNet_cv\":neuralNet_cv,\n",
    "# #               \"neighbors_cv\":neighbors_cv\n",
    "#              }\n",
    "\n",
    "# for key, model in results_cv.items():\n",
    "#     print(key, \"---mean\",round(sum(model) / len(model),3), \"---stddev\", round(stat.stdev(model),3), \"---variance\", round(np.var(model),5))"
   ]
  },
  {
   "cell_type": "markdown",
   "metadata": {},
   "source": [
    "### Decision tree with grid search and oversampling"
   ]
  },
  {
   "cell_type": "code",
   "execution_count": 18,
   "metadata": {},
   "outputs": [],
   "source": [
    "from imblearn.over_sampling import SMOTE\n",
    "oversample = SMOTE()\n",
    "X, y = oversample.fit_resample(train_st[selectedFeatures], train_st[target])"
   ]
  },
  {
   "cell_type": "code",
   "execution_count": 19,
   "metadata": {},
   "outputs": [],
   "source": [
    "#train test split for oversampling\n",
    "from sklearn.model_selection import train_test_split\n",
    "\n",
    "X_train, X_test, y_train, y_test = train_test_split(X, y, test_size=0.2, random_state=1)\n",
    "X_train, X_val, y_train, y_val = train_test_split(X_train, y_train, test_size=0.25, random_state=1) # 0.25 x 0.8 = 0.2"
   ]
  },
  {
   "cell_type": "code",
   "execution_count": 20,
   "metadata": {},
   "outputs": [],
   "source": [
    "from sklearn.model_selection import GridSearchCV\n",
    "\n",
    "dtree_model = DecisionTreeClassifier()\n",
    "param_grid = {'max_depth': np.arange(3, 10)}\n",
    "\n",
    "dtree_gs = GridSearchCV(dtree_model, param_grid, cv=5)\n",
    "dtree_model = dtree_gs.fit(pre_train[selectedFeatures], pre_train[target])\n"
   ]
  },
  {
   "cell_type": "code",
   "execution_count": 21,
   "metadata": {},
   "outputs": [
    {
     "name": "stdout",
     "output_type": "stream",
     "text": [
      "GridSearchCV(cv=5, estimator=DecisionTreeClassifier(),\n",
      "             param_grid={'max_depth': array([3, 4, 5, 6, 7, 8, 9])}) 0.897625 0.6067134650790798\n"
     ]
    }
   ],
   "source": [
    "dtree_predictions = dtree_model.predict(valid[selectedFeatures])\n",
    "dtree_score = dtree_model.score(valid[selectedFeatures], valid[target])\n",
    "roc = roc_auc_score(valid[target], dtree_model.predict_proba(valid[selectedFeatures])[:,1])\n",
    "print(dtree_gs, dtree_score,roc)"
   ]
  },
  {
   "cell_type": "code",
   "execution_count": 23,
   "metadata": {},
   "outputs": [
    {
     "name": "stdout",
     "output_type": "stream",
     "text": [
      "[0.63832152 0.64188438 0.62979433 0.62076153 0.63229572 0.62729294\n",
      " 0.64188438 0.62576431 0.63715953 0.6459144 ]\n"
     ]
    }
   ],
   "source": [
    "from sklearn.model_selection import KFold\n",
    "from sklearn.model_selection import cross_val_score\n",
    "\n",
    "\n",
    "cv = KFold(n_splits=10, random_state=1, shuffle=True)\n",
    "scores = cross_val_score(dtree_model, X_val,y_val, scoring='accuracy', cv=cv, n_jobs=-1)\n",
    "print(scores)"
   ]
  },
  {
   "cell_type": "code",
   "execution_count": 22,
   "metadata": {},
   "outputs": [],
   "source": [
    "predition_tree = dtree_model.predict(test_st[selectedFeatures])\n",
    "test_st['pred_tree']  = predition_tree\n",
    "pd.DataFrame(test_st[['ID_code','pred_tree']]).to_csv(\"decision_tree_smote.csv\")"
   ]
  },
  {
   "cell_type": "markdown",
   "metadata": {},
   "source": [
    "### Logistic regression + Oversampling"
   ]
  },
  {
   "cell_type": "code",
   "execution_count": 15,
   "metadata": {},
   "outputs": [],
   "source": [
    "from imblearn.over_sampling import SMOTE\n",
    "oversample = SMOTE()\n",
    "X, y = oversample.fit_resample(train_st[selectedFeatures], train_st[target])"
   ]
  },
  {
   "cell_type": "code",
   "execution_count": 16,
   "metadata": {},
   "outputs": [],
   "source": [
    "#train test split for oversampling\n",
    "from sklearn.model_selection import train_test_split\n",
    "\n",
    "X_train, X_test, y_train, y_test = train_test_split(X, y, test_size=0.2, random_state=1)\n",
    "X_train, X_val, y_train, y_val = train_test_split(X_train, y_train, test_size=0.25, random_state=1) # 0.25 x 0.8 = 0.2"
   ]
  },
  {
   "cell_type": "code",
   "execution_count": 18,
   "metadata": {},
   "outputs": [
    {
     "name": "stdout",
     "output_type": "stream",
     "text": [
      "LogisticRegression() 0.7988632731618516 0.8779990731317955\n"
     ]
    }
   ],
   "source": [
    "lg =  LogisticRegression()\n",
    "lg_model_smote = lg.fit(X_train, y_train)\n",
    "lg_predictions_smote = lg_model_smote.predict(X_test)\n",
    "roc = roc_auc_score(y_test, lg_model_smote.predict_proba(X_test)[:,1])\n",
    "lg_score = lg_model_smote.score(X_test, y_test)\n",
    "print(lg_model_smote, lg_score, roc)"
   ]
  },
  {
   "cell_type": "code",
   "execution_count": 25,
   "metadata": {},
   "outputs": [],
   "source": [
    "from sklearn.model_selection import KFold\n",
    "from sklearn.model_selection import cross_val_score\n",
    "\n",
    "\n",
    "cv = KFold(n_splits=10, random_state=1, shuffle=True)\n",
    "scores = cross_val_score(lg_model_smote, X_val,y_val, scoring='accuracy', cv=cv, n_jobs=-1)"
   ]
  },
  {
   "cell_type": "code",
   "execution_count": 26,
   "metadata": {},
   "outputs": [
    {
     "name": "stdout",
     "output_type": "stream",
     "text": [
      "[0.79824927 0.81183991 0.79571984 0.7979433  0.79655364 0.79474708\n",
      " 0.79446915 0.78474152 0.79655364 0.80600334]\n"
     ]
    }
   ],
   "source": [
    "print(scores)"
   ]
  },
  {
   "cell_type": "code",
   "execution_count": 23,
   "metadata": {},
   "outputs": [],
   "source": [
    "### Predict on kaggdle test set\n",
    "result_test_log_smote = lg_model_smote.predict(test_st[selectedFeatures])\n",
    "test['prdictions'] = result_test_log_smote\n",
    "result_test_log_smote_df = pd.DataFrame(test[['ID_code','prdictions']])\n",
    "result_test_log_smote_df\n",
    "result_test_log_smote_df.to_csv(\"Lasso_Logistic_smote_Laura.csv\")"
   ]
  },
  {
   "cell_type": "markdown",
   "metadata": {},
   "source": [
    "### Random forest with grid search"
   ]
  },
  {
   "cell_type": "code",
   "execution_count": null,
   "metadata": {},
   "outputs": [],
   "source": [
    "from sklearn.ensemble import RandomForestClassifier\n",
    "\n",
    "\n",
    "rfc_model = RandomForestClassifier(oob_score = True) \n",
    "param_grid = {'n_estimators': [50, 100, 200, 400], 'max_features': ['auto', 'sqrt', 'log2'], 'max_depth': [10,40,50,70,100],\n",
    "             'min_samples_split': [2, 5, 10],'min_samples_leaf' : [1, 2, 4]}\n",
    "rfc_gs = GridSearchCV(estimator=rfc_model, param_grid=param_grid, cv= 5)\n",
    "rfc_model = rfc_gs.fit(X_train, y_train)\n",
    "rfc_predictions = rfc_model.predict(X_test)\n",
    "roc_rfc = roc_auc_score(y_test, rfc_model.predict_proba(X_test)[:,1])\n",
    "rfc_score = rfc_model.score(X_test, y_test)\n",
    "\n",
    "print(\"Accuracy: \", rfc_score, \"AUC:\",  roc_rfc)"
   ]
  },
  {
   "cell_type": "code",
   "execution_count": null,
   "metadata": {},
   "outputs": [],
   "source": [
    "rfc_result = lg_model.predict(test_filtered)\n",
    "test['prdictions_rfc'] = rfc_result\n",
    "rfc_result_df = pd.DataFrame(test[['ID_code','prdictions_rfc']])\n",
    "rfc_result_df.to_csv(\"Rfc.csv\")\n"
   ]
  },
  {
   "cell_type": "code",
   "execution_count": null,
   "metadata": {},
   "outputs": [],
   "source": []
  }
 ],
 "metadata": {
  "kernelspec": {
   "display_name": "Python 3",
   "language": "python",
   "name": "python3"
  },
  "language_info": {
   "codemirror_mode": {
    "name": "ipython",
    "version": 3
   },
   "file_extension": ".py",
   "mimetype": "text/x-python",
   "name": "python",
   "nbconvert_exporter": "python",
   "pygments_lexer": "ipython3",
   "version": "3.8.3"
  }
 },
 "nbformat": 4,
 "nbformat_minor": 4
}
